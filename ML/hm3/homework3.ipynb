{
 "cells": [
  {
   "cell_type": "code",
   "execution_count": null,
   "metadata": {},
   "outputs": [],
   "source": [
    "import numpy as np\n",
    "from scipy.stats import mode\n",
    "import matplotlib.pyplot as plt\n",
    "from sklearn.metrics import accuracy_score\n",
    "from collections import Counter"
   ]
  },
  {
   "cell_type": "code",
   "execution_count": null,
   "metadata": {},
   "outputs": [],
   "source": [
    "def my_mode(data):\n",
    "    counter = Counter(data)\n",
    "    max_count = max(counter.values())\n",
    "    modes = [value for value, count in counter.items() if count == max_count]\n",
    "    return modes if len(modes) > 1 else modes[0]\n"
   ]
  },
  {
   "cell_type": "code",
   "execution_count": null,
   "metadata": {},
   "outputs": [],
   "source": [
    "def knn(X, y, Z, k, p):\n",
    "    m = Z.shape[0]\n",
    "    w = np.empty(m, dtype=y.dtype)\n",
    "\n",
    "    for i in range(m):\n",
    "        distances = np.linalg.norm(Z[i, :] - X, ord=p, axis=1)\n",
    "        sorted_indices = np.argsort(distances)\n",
    "        k_nearest_indices = sorted_indices[:k]\n",
    "\n",
    "        k_nearest_labels = y[k_nearest_indices]\n",
    "        mode_result = my_mode(k_nearest_labels)\n",
    "\n",
    "        if mode_result.size > 1:\n",
    "            selected_label = np.random.choice(mode_result)\n",
    "        else:\n",
    "            selected_label = mode_result\n",
    "\n",
    "        w[i] = selected_label\n",
    "    return w\n"
   ]
  },
  {
   "cell_type": "code",
   "execution_count": null,
   "metadata": {},
   "outputs": [],
   "source": [
    "# Utwórzmy zbiór treningowy\n",
    "np.random.seed(0)\n",
    "theta = 2 * np.pi * np.random.rand(100)\n",
    "inner_circle = np.array([np.cos(theta), np.sin(theta)]).T\n",
    "outer_circle = 2 * np.array([np.cos(theta), np.sin(theta)]).T\n",
    "\n",
    "X_train = np.vstack([inner_circle, outer_circle])\n",
    "y_train = np.hstack([np.zeros(100), np.ones(100)])\n",
    "\n",
    "# Utwórzmy zbiór testowy\n",
    "theta_test = 2 * np.pi * np.random.rand(50)\n",
    "inner_circle_test = np.array([np.cos(theta_test), np.sin(theta_test)]).T\n",
    "outer_circle_test = 2 * np.array([np.cos(theta_test), np.sin(theta_test)]).T\n",
    "\n",
    "X_test = np.vstack([inner_circle_test, outer_circle_test])\n",
    "y_test = np.hstack([np.zeros(50), np.ones(50)])\n",
    "\n",
    "# Wyświetlmy zbiór treningowy\n",
    "plt.scatter(X_train[:, 0], X_train[:, 1], c=y_train, cmap=plt.cm.Paired, edgecolor='k')\n",
    "plt.title('Zbiór treningowy - Pierścień')\n",
    "plt.show()"
   ]
  },
  {
   "cell_type": "code",
   "execution_count": null,
   "metadata": {},
   "outputs": [],
   "source": [
    "np.random.seed(1)\n",
    "cluster1 = np.random.randn(100, 2) + np.array([2, 2])\n",
    "cluster2 = np.random.randn(100, 2) + np.array([-2, -2])\n",
    "\n",
    "X_train_clusters = np.vstack([cluster1, cluster2])\n",
    "y_train_clusters = np.hstack([np.zeros(100), np.ones(100)])\n",
    "\n",
    "# Utwórzmy zbiór testowy\n",
    "test_points = np.array([[0, 0], [3, 3], [-3, -3]])\n",
    "\n",
    "# Wyświetlmy zbiór treningowy\n",
    "plt.scatter(X_train_clusters[:, 0], X_train_clusters[:, 1], c=y_train_clusters, cmap=plt.cm.Paired, edgecolor='k')\n",
    "plt.scatter(test_points[:, 0], test_points[:, 1], marker='x', s=100, color='red', label='Testowe punkty')\n",
    "plt.title('Zbiór treningowy - Klastry')\n",
    "plt.legend()\n",
    "plt.show()"
   ]
  },
  {
   "cell_type": "code",
   "execution_count": null,
   "metadata": {},
   "outputs": [],
   "source": [
    "labels_ring = knn(X_train, y_train, X_test, 5,2)\n",
    "accuracy_ring = accuracy_score(y_test, labels_ring)\n",
    "\n",
    "print(\"Wyniki dla zbioru pierścienia:\")\n",
    "print(\"Etykiety przewidziane:\", labels_ring)\n",
    "print(\"Dokładność:\", accuracy_ring)\n",
    "\n",
    "# Przetestuj algorytm k-najbliższych sąsiadów na zbiorze klastrów\n",
    "labels_clusters = knn(X_train_clusters, y_train_clusters, test_points, 5,2)\n",
    "print(\"\\nWyniki dla zbioru klastrów:\")\n",
    "print(\"Etykiety przewidziane:\", labels_clusters)"
   ]
  },
  {
   "cell_type": "code",
   "execution_count": null,
   "metadata": {},
   "outputs": [],
   "source": []
  },
  {
   "cell_type": "code",
   "execution_count": null,
   "metadata": {},
   "outputs": [],
   "source": []
  },
  {
   "cell_type": "code",
   "execution_count": null,
   "metadata": {},
   "outputs": [],
   "source": []
  }
 ],
 "metadata": {
  "kernelspec": {
   "display_name": "base",
   "language": "python",
   "name": "python3"
  },
  "language_info": {
   "codemirror_mode": {
    "name": "ipython",
    "version": 3
   },
   "file_extension": ".py",
   "mimetype": "text/x-python",
   "name": "python",
   "nbconvert_exporter": "python",
   "pygments_lexer": "ipython3",
   "version": "3.9.12"
  }
 },
 "nbformat": 4,
 "nbformat_minor": 2
}
