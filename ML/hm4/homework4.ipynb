{
 "cells": [
  {
   "cell_type": "code",
   "execution_count": null,
   "metadata": {},
   "outputs": [],
   "source": [
    "import numpy as np\n",
    "from sklearn.cluster import KMeans\n",
    "import matplotlib.pyplot as plt\n",
    "from sklearn.datasets import make_blobs , make_circles , make_moons\n",
    "from sklearn.cluster import AgglomerativeClustering\n",
    "from sklearn.cluster import DBSCAN\n"
   ]
  },
  {
   "cell_type": "code",
   "execution_count": null,
   "metadata": {},
   "outputs": [],
   "source": [
    "# # Dane 1\n",
    "n = 1500\n",
    "X , y = make_blobs ( n_samples = n , random_state=420 )\n",
    "\n",
    "plt.scatter(x=X[:, 0], y=X[:, 1], c=y)\n",
    "plt.xlabel('Feature 1')\n",
    "plt.ylabel('Feature 2')\n",
    "plt.title('Scatter Plot')\n",
    "plt.show()\n",
    "\n",
    "kmeans_kwargs = {\n",
    "   \"init\": \"random\",\n",
    "   \"n_init\": 10,\n",
    "   \"max_iter\": 300,\n",
    "   \"random_state\": 420,\n",
    "   }\n",
    "\n",
    "\n",
    "sse = []\n",
    "for k in range(1, 20):\n",
    "    kmeans = KMeans(n_clusters = k, **kmeans_kwargs)\n",
    "    kmeans.fit(X)\n",
    "    sse.append(kmeans.inertia_)\n",
    "\n",
    "plt.plot(range(1, 20),sse)\n",
    "plt.xticks(range(1, 20))\n",
    "plt.xlabel(\"Number of Clusters\")\n",
    "plt.ylabel(\"SSE\")"
   ]
  },
  {
   "cell_type": "code",
   "execution_count": null,
   "metadata": {},
   "outputs": [],
   "source": [
    "# Dane 1 \n",
    "for k in range(1, 7):\n",
    "    kmeans = KMeans(n_clusters=k,**kmeans_kwargs).fit(X)\n",
    "    plt.scatter(x=X[:, 0], y=X[:, 1], c = kmeans.labels_)\n",
    "    plt.title(f'k={k}')\n",
    "    plt.show()"
   ]
  },
  {
   "cell_type": "code",
   "execution_count": null,
   "metadata": {},
   "outputs": [],
   "source": [
    "for k in range(1, 7):\n",
    "    AgCl_single = AgglomerativeClustering(n_clusters=k).fit(X)\n",
    "    plt.scatter(x=X[:, 0], y=X[:, 1], c =AgCl_single.labels_)\n",
    "    plt.title(f'k={k}')\n",
    "    plt.show()"
   ]
  },
  {
   "cell_type": "code",
   "execution_count": null,
   "metadata": {},
   "outputs": [],
   "source": [
    "db = DBSCAN(eps = 1.5 ,min_samples=10).fit(X)\n",
    "plt.scatter(X[:, 0], X[:, 1], c = db.labels_)"
   ]
  },
  {
   "cell_type": "code",
   "execution_count": null,
   "metadata": {},
   "outputs": [],
   "source": [
    "# # Dane 2\n",
    "noise = 0.05\n",
    "X , y = make_circles ( n_samples = n , factor = 0.5 , noise = noise )\n",
    "\n",
    "plt.scatter(x=X[:, 0], y=X[:, 1], c=y)\n",
    "plt.xlabel('Feature 1')\n",
    "plt.ylabel('Feature 2')\n",
    "plt.title('Scatter Plot')\n",
    "plt.show()\n",
    "\n",
    "\n",
    "sse = []\n",
    "for k in range(1, 20):\n",
    "    kmeans = KMeans(n_clusters = k, **kmeans_kwargs)\n",
    "    kmeans.fit(X)\n",
    "    sse.append(kmeans.inertia_)\n",
    "\n",
    "plt.plot(range(1, 20),sse)\n",
    "plt.xticks(range(1, 20))\n",
    "plt.xlabel(\"Number of Clusters\")\n",
    "plt.ylabel(\"SSE\")"
   ]
  },
  {
   "cell_type": "code",
   "execution_count": null,
   "metadata": {},
   "outputs": [],
   "source": [
    "for k in range(1, 7):\n",
    "    kmeans = KMeans(n_clusters=k,**kmeans_kwargs).fit(X)\n",
    "    plt.scatter(x=X[:, 0], y=X[:, 1], c = kmeans.labels_)\n",
    "    plt.title(f'k={k}')\n",
    "    plt.show()"
   ]
  },
  {
   "cell_type": "code",
   "execution_count": null,
   "metadata": {},
   "outputs": [],
   "source": [
    "for k in range(1, 7):\n",
    "    AgCl_single = AgglomerativeClustering(n_clusters=k).fit(X)\n",
    "    plt.scatter(x=X[:, 0], y=X[:, 1], c =AgCl_single.labels_)\n",
    "    plt.title(f'k={k}')\n",
    "    plt.show()"
   ]
  },
  {
   "cell_type": "code",
   "execution_count": null,
   "metadata": {},
   "outputs": [],
   "source": [
    "db = DBSCAN(eps =0.2 ,min_samples=10).fit(X)\n",
    "plt.scatter(X[:, 0], X[:, 1], c = db.labels_)"
   ]
  },
  {
   "cell_type": "code",
   "execution_count": null,
   "metadata": {},
   "outputs": [],
   "source": [
    "\n",
    "# # Dane 3\n",
    "noise = 0.05\n",
    "X , y = make_moons ( n_samples = n , noise = noise )\n",
    "\n",
    "plt.scatter(x=X[:, 0], y=X[:, 1], c=y)\n",
    "plt.xlabel('Feature 1')\n",
    "plt.ylabel('Feature 2')\n",
    "plt.title('Scatter Plot')\n",
    "plt.show()\n",
    "\n",
    "\n",
    "sse = []\n",
    "for k in range(1, 20):\n",
    "    kmeans = KMeans(n_clusters = k, **kmeans_kwargs)\n",
    "    kmeans.fit(X)\n",
    "    sse.append(kmeans.inertia_)\n",
    "\n",
    "plt.plot(range(1, 20),sse)\n",
    "plt.xticks(range(1, 20))\n",
    "plt.xlabel(\"Number of Clusters\")\n",
    "plt.ylabel(\"SSE\")"
   ]
  },
  {
   "cell_type": "code",
   "execution_count": null,
   "metadata": {},
   "outputs": [],
   "source": [
    "for k in range(1, 7):\n",
    "    kmeans = KMeans(n_clusters=k,**kmeans_kwargs).fit(X)\n",
    "    plt.scatter(x=X[:, 0], y=X[:, 1], c = kmeans.labels_)\n",
    "    plt.title(f'k={k}')\n",
    "    plt.show()"
   ]
  },
  {
   "cell_type": "code",
   "execution_count": null,
   "metadata": {},
   "outputs": [],
   "source": [
    "for k in range(1, 7):\n",
    "    AgCl_single = AgglomerativeClustering(n_clusters=k).fit(X)\n",
    "    plt.scatter(x=X[:, 0], y=X[:, 1], c =AgCl_single.labels_)\n",
    "    plt.title(f'k={k}')\n",
    "    plt.show()"
   ]
  },
  {
   "cell_type": "code",
   "execution_count": null,
   "metadata": {},
   "outputs": [],
   "source": [
    "db = DBSCAN(eps =.1 ,min_samples=10).fit(X)\n",
    "plt.scatter(X[:, 0], X[:, 1], c = db.labels_)"
   ]
  },
  {
   "cell_type": "code",
   "execution_count": null,
   "metadata": {},
   "outputs": [],
   "source": [
    "# # Dane 4\n",
    "X = np . random . rand (n , 2)\n",
    "\n",
    "plt.scatter(x=X[:, 0], y=X[:, 1], c=y)\n",
    "plt.xlabel('Feature 1')\n",
    "plt.ylabel('Feature 2')\n",
    "plt.title('Scatter Plot')\n",
    "plt.show()"
   ]
  },
  {
   "cell_type": "code",
   "execution_count": null,
   "metadata": {},
   "outputs": [],
   "source": [
    "for k in range(1, 7):\n",
    "    kmeans = KMeans(n_clusters=k,**kmeans_kwargs).fit(X)\n",
    "    plt.scatter(x=X[:, 0], y=X[:, 1], c = kmeans.labels_)\n",
    "    plt.title(f'k={k}')\n",
    "    plt.show()"
   ]
  },
  {
   "cell_type": "code",
   "execution_count": null,
   "metadata": {},
   "outputs": [],
   "source": [
    "for k in range(1, 7):\n",
    "    AgCl_single = AgglomerativeClustering(n_clusters=k).fit(X)\n",
    "    plt.scatter(x=X[:, 0], y=X[:, 1], c =AgCl_single.labels_)\n",
    "    plt.title(f'k={k}')\n",
    "    plt.show()"
   ]
  },
  {
   "cell_type": "code",
   "execution_count": null,
   "metadata": {},
   "outputs": [],
   "source": [
    "db = DBSCAN(eps =.0000001 ,min_samples=10).fit(X)\n",
    "plt.scatter(X[:, 0], X[:, 1], c = db.labels_)"
   ]
  },
  {
   "cell_type": "code",
   "execution_count": null,
   "metadata": {},
   "outputs": [],
   "source": [
    "# # Dane 2\n",
    "noise_values = [0.01, 0.05, 0.1, 0.2]\n",
    "\n",
    "for noise in noise_values:\n",
    "    X, y = make_circles(n_samples=n, factor=0.5, noise=noise)\n",
    "    plt.scatter(x=X[:, 0], y=X[:, 1], c=y, label=f'Noise={noise}')\n",
    "    plt.xlabel('Feature 1')\n",
    "    plt.ylabel('Feature 2')\n",
    "    plt.title('Impact of Noise on make_circles Dataset')\n",
    "    plt.legend()\n",
    "    plt.show()"
   ]
  },
  {
   "cell_type": "code",
   "execution_count": null,
   "metadata": {},
   "outputs": [],
   "source": [
    "# # Dane 3\n",
    "noise_values = [0.01, 0.05, 0.1, 0.2]\n",
    "\n",
    "for noise in noise_values:\n",
    "    X , y = make_moons ( n_samples = n , noise = noise )\n",
    "    plt.scatter(x=X[:, 0], y=X[:, 1], c=y, label=f'Noise={noise}')\n",
    "    plt.xlabel('Feature 1')\n",
    "    plt.ylabel('Feature 2')\n",
    "    plt.title('Impact of Noise on make_moons Dataset')\n",
    "    plt.legend()\n",
    "    plt.show()"
   ]
  },
  {
   "cell_type": "code",
   "execution_count": null,
   "metadata": {},
   "outputs": [],
   "source": [
    "sse = []\n",
    "for k in range(8, 50):\n",
    "    kmeans = KMeans(n_clusters = k, **kmeans_kwargs)\n",
    "    kmeans.fit(X)\n",
    "    sse.append(kmeans.inertia_)\n",
    "\n",
    "plt.plot(range(8, 50),sse)\n",
    "plt.xticks(range(8, 50))\n",
    "plt.xlabel(\"Number of Clusters\")\n",
    "plt.ylabel(\"SSE\")"
   ]
  }
 ],
 "metadata": {
  "kernelspec": {
   "display_name": "venv",
   "language": "python",
   "name": "python3"
  },
  "language_info": {
   "codemirror_mode": {
    "name": "ipython",
    "version": 3
   },
   "file_extension": ".py",
   "mimetype": "text/x-python",
   "name": "python",
   "nbconvert_exporter": "python",
   "pygments_lexer": "ipython3",
   "version": "3.9.12"
  }
 },
 "nbformat": 4,
 "nbformat_minor": 2
}
